{
 "cells": [
  {
   "cell_type": "code",
   "execution_count": 1,
   "metadata": {},
   "outputs": [],
   "source": [
    "import numpy as np\n",
    "import pandas as pd\n",
    "import requests\n",
    "from bs4 import BeautifulSoup as bs\n",
    "import matplotlib.pyplot as plt\n",
    "\n",
    "from sklearn import preprocessing\n",
    "from sklearn.ensemble import RandomForestClassifier\n",
    "from sklearn.ensemble import RandomForestRegressor\n",
    "from sklearn.ensemble import GradientBoostingClassifier\n",
    "from sklearn.linear_model import LogisticRegression\n",
    "from sklearn.neural_network import MLPClassifier\n",
    "from sklearn.svm import SVC"
   ]
  },
  {
   "cell_type": "code",
   "execution_count": 2,
   "metadata": {},
   "outputs": [],
   "source": [
    "df = pd.read_csv(\"data/learning_data_5.csv\")\n",
    "df = df.drop([\"Unnamed: 0\", \"FormDiff_01\", \"FormDiff_05\", \"FormDiff_066\"], axis=1)"
   ]
  },
  {
   "cell_type": "code",
   "execution_count": 3,
   "metadata": {},
   "outputs": [
    {
     "data": {
      "text/plain": [
       "Index(['FormDiff_033', 'L_k_Pts_Diff', 'L_k_St_A_Diff', 'L_k_Gls_A_Diff',\n",
       "       'L_k_cor_A_Diff', 'L_k_Off_A_Diff', 'L_k_Poss_A_Diff', 'L_k_Fls_A_Diff',\n",
       "       'Att_Diff', 'Mid_Diff', 'Def_Diff', 'Rat_Diff', 'Bud_Diff', 'Goal_Diff',\n",
       "       'Pts_Diff', 'W_Pts_Diff', 'Accel_Diff', 'Stam_Diff', 'Str_Diff',\n",
       "       'Balance_Diff', 'Sprint_Diff', 'Agility_Diff', 'Jumping_Diff',\n",
       "       'Aggression_Diff', 'Reactions_Diff', 'Att._Position_Diff',\n",
       "       'Interceptions_Diff', 'Vision_Diff', 'Ball_Ctrl_Diff', 'Dribbling_Diff',\n",
       "       'Crossing_Diff', 'Short_Pass_Diff', 'Long_Pass_Diff', 'Heading_Diff',\n",
       "       'Shot_Power_Diff', 'Finishing_Diff', 'Long_Shots_Diff', 'Curve_Diff',\n",
       "       'FK_Acc._Diff', 'Penalties_Diff', 'Volleys_Diff'],\n",
       "      dtype='object')"
      ]
     },
     "execution_count": 3,
     "metadata": {},
     "output_type": "execute_result"
    }
   ],
   "source": [
    "columns_to_select = df.columns[4:-1]\n",
    "columns_to_select"
   ]
  },
  {
   "cell_type": "code",
   "execution_count": 4,
   "metadata": {},
   "outputs": [],
   "source": [
    "scaled_data = preprocessing.StandardScaler().fit_transform(df[columns_to_select])"
   ]
  },
  {
   "cell_type": "code",
   "execution_count": 5,
   "metadata": {},
   "outputs": [],
   "source": [
    "scaled_df = pd.DataFrame(scaled_data, columns = columns_to_select)"
   ]
  },
  {
   "cell_type": "code",
   "execution_count": 6,
   "metadata": {},
   "outputs": [],
   "source": [
    "scaled_df[\"Result\"] = df[\"Result\"]\n",
    "scaled_df[\"Season\"] = df[\"Season\"]\n",
    "scaled_df[\"Round\"] = df[\"Round\"]\n",
    "scaled_df[\"Home\"] = df[\"Home\"]\n",
    "scaled_df[\"Away\"] = df[\"Away\"]"
   ]
  },
  {
   "cell_type": "markdown",
   "metadata": {},
   "source": [
    "#### Helper functions"
   ]
  },
  {
   "cell_type": "code",
   "execution_count": 7,
   "metadata": {},
   "outputs": [],
   "source": [
    "def rps(predicted, observed):\n",
    "    r = len(predicted)\n",
    "    cum_predicted = np.cumsum(predicted)\n",
    "    cum_observed = np.cumsum(observed)\n",
    "    total_sum = 0\n",
    "    for c_p, c_o in zip(cum_predicted, cum_observed):\n",
    "        total_sum += (c_p - c_o) ** 2\n",
    "    return total_sum / (r - 1) "
   ]
  },
  {
   "cell_type": "code",
   "execution_count": 8,
   "metadata": {},
   "outputs": [],
   "source": [
    "def convert_odds_to_prob(odds):\n",
    "    return [1/odd for odd in odds]"
   ]
  },
  {
   "cell_type": "code",
   "execution_count": 9,
   "metadata": {},
   "outputs": [],
   "source": [
    "def convert_to_vector(result):\n",
    "    if result == \"H\":\n",
    "        return [1, 0, 0]\n",
    "    elif result == \"D\":\n",
    "        return [0, 1, 0]\n",
    "    return [0, 0, 1]"
   ]
  },
  {
   "cell_type": "code",
   "execution_count": 10,
   "metadata": {},
   "outputs": [],
   "source": [
    "def confusion_matrix(test_y, y_pred):\n",
    "    pred_h_act_h = sum([t == \"H\" and p == \"H\" for (t, p) in zip(test_y, y_pred)])\n",
    "    pred_h_act_d = sum([t == \"D\" and p == \"H\" for (t, p) in zip(test_y, y_pred)]) \n",
    "    pred_h_act_a = sum([t == \"A\" and p == \"H\" for (t, p) in zip(test_y, y_pred)])\n",
    "    \n",
    "    pred_d_act_h = sum([t == \"H\" and p == \"D\" for (t, p) in zip(test_y, y_pred)])\n",
    "    pred_d_act_d = sum([t == \"D\" and p == \"D\" for (t, p) in zip(test_y, y_pred)]) \n",
    "    pred_d_act_a = sum([t == \"A\" and p == \"D\" for (t, p) in zip(test_y, y_pred)]) \n",
    "    \n",
    "    pred_a_act_h = sum([t == \"H\" and p == \"A\" for (t, p) in zip(test_y, y_pred)])\n",
    "    pred_a_act_d = sum([t == \"D\" and p == \"A\" for (t, p) in zip(test_y, y_pred)]) \n",
    "    pred_a_act_a = sum([t == \"A\" and p == \"A\" for (t, p) in zip(test_y, y_pred)])\n",
    "    \n",
    "    return np.array([[pred_h_act_h, pred_d_act_h, pred_a_act_h],\n",
    "                     [pred_h_act_d, pred_d_act_d, pred_a_act_d],\n",
    "                     [pred_h_act_a, pred_d_act_a, pred_a_act_a]])"
   ]
  },
  {
   "cell_type": "code",
   "execution_count": 11,
   "metadata": {},
   "outputs": [],
   "source": [
    "def precision_recall_table(confusion_matrix):\n",
    "    accuracy = sum([confusion_matrix[i][i] for i in range(len(confusion_matrix))]) / np.sum(confusion_matrix)\n",
    "    \n",
    "    home_precision = confusion_matrix[0][0] / sum(confusion_matrix[:,0])\n",
    "    draw_precision = confusion_matrix[1][1] / sum(confusion_matrix[:,1])\n",
    "    away_precision = confusion_matrix[2][2] / sum(confusion_matrix[:,2])\n",
    "    \n",
    "    home_recall = confusion_matrix[0][0] / sum(confusion_matrix[0,:])\n",
    "    draw_recall = confusion_matrix[1][1] / sum(confusion_matrix[1,:])\n",
    "    away_recall = confusion_matrix[2][2] / sum(confusion_matrix[2,:])\n",
    "    \n",
    "    home_f1 = 2 * home_precision * home_recall / (home_precision + home_recall)\n",
    "    draw_f1 = 2 * draw_precision * draw_recall / (draw_precision + draw_recall)\n",
    "    away_f1 = 2 * away_precision * away_recall / (away_precision + away_recall)\n",
    "    \n",
    "    return accuracy, np.array([[home_precision, home_recall, home_f1],\n",
    "                               [draw_precision, draw_recall, draw_f1],\n",
    "                               [away_precision, away_recall, away_f1]])"
   ]
  },
  {
   "cell_type": "markdown",
   "metadata": {},
   "source": [
    "## Predictive modeling"
   ]
  },
  {
   "cell_type": "code",
   "execution_count": 18,
   "metadata": {},
   "outputs": [],
   "source": [
    "season = \"2018/2019\""
   ]
  },
  {
   "cell_type": "markdown",
   "metadata": {},
   "source": [
    "### Logistic Regression"
   ]
  },
  {
   "cell_type": "code",
   "execution_count": 207,
   "metadata": {},
   "outputs": [
    {
     "name": "stdout",
     "output_type": "stream",
     "text": [
      "RPS:  0.19044622016066648\n",
      "[[97  0 20]\n",
      " [41  3 16]\n",
      " [31  2 51]]\n",
      "Accuracy:  0.578544061302682\n",
      "[[0.5739645  0.82905983 0.67832168]\n",
      " [0.6        0.05       0.09230769]\n",
      " [0.5862069  0.60714286 0.59649123]]\n"
     ]
    }
   ],
   "source": [
    "clf = LogisticRegression(C=0.015, max_iter=100)\n",
    "\n",
    "learning_set = scaled_df.loc[scaled_df[\"Season\"] != season]\n",
    "testing_set = scaled_df.loc[scaled_df[\"Season\"] == season]\n",
    "\n",
    "train_X, train_y = learning_set.drop([\"Season\", \"Result\", \"Round\", \"Home\", \"Away\"], axis = 1), learning_set[\"Result\"]\n",
    "test_X, test_y = testing_set.drop([\"Season\", \"Result\", \"Round\", \"Home\", \"Away\"], axis = 1), testing_set[\"Result\"]\n",
    "\n",
    "clf.fit(train_X, train_y)\n",
    "y_pred = clf.predict(test_X)\n",
    "y_proba = clf.predict_proba(test_X)\n",
    "\n",
    "rps_list = [rps(y_pro[::-1], convert_to_vector(y_t)) for y_pro, y_t in zip(y_proba, test_y)]\n",
    "log_reg_model_rps = (sum(rps_list) / len(y_pred))\n",
    "log_reg_rps_df = pd.DataFrame.from_dict({'RPS': rps_list, 'Round': testing_set[\"Round\"]})\n",
    "\n",
    "rps_avgs_lr = []\n",
    "rnds = list(range(6, 35))\n",
    "for rnd in rnds:\n",
    "    rps_values = list(log_reg_rps_df.loc[log_reg_rps_df[\"Round\"] == rnd, \"RPS\"].values)\n",
    "    avg = sum(rps_values) / len(rps_values)\n",
    "    rps_avgs_lr.append(avg)\n",
    "log_res_rps = sum(rps_avgs_lr) / len(rps_avgs_lr)\n",
    "\n",
    "print(\"RPS: \", log_reg_model_rps)\n",
    "conf = confusion_matrix(test_y, y_pred)\n",
    "print(conf)\n",
    "log_res_acc, pr_re_table = precision_recall_table(conf)\n",
    "print(\"Accuracy: \", log_res_acc)\n",
    "print(pr_re_table)"
   ]
  },
  {
   "cell_type": "markdown",
   "metadata": {},
   "source": [
    "### Random Forest"
   ]
  },
  {
   "cell_type": "code",
   "execution_count": 132,
   "metadata": {},
   "outputs": [
    {
     "name": "stdout",
     "output_type": "stream",
     "text": [
      "0.1912401707279694\n",
      "0.587509578544061\n",
      "[[0.5850697  0.8642735  0.69774601]\n",
      " [0.71       0.02966667 0.05660236]\n",
      " [0.59087818 0.60047619 0.59550954]]\n"
     ]
    }
   ],
   "source": [
    "iterations = 50\n",
    "acc_list_rf = []\n",
    "rps_list_rf = []\n",
    "pr_re_table_sum = np.zeros((3, 3))\n",
    "for i in range(iterations):\n",
    "    clf = RandomForestClassifier(n_estimators=1000, max_depth=200, criterion=\"gini\")\n",
    "    learning_set = df.loc[df[\"Season\"] != season]\n",
    "    testing_set = df.loc[df[\"Season\"] == season]\n",
    "\n",
    "    train_X, train_y = learning_set.drop([\"Season\", \"Result\", \"Round\", \"Home\", \"Away\"], axis = 1), learning_set[\"Result\"]\n",
    "    test_X, test_y = testing_set.drop([\"Season\", \"Result\", \"Round\", \"Home\", \"Away\"], axis = 1), testing_set[\"Result\"]\n",
    "\n",
    "    clf.fit(train_X, train_y)\n",
    "    y_pred = clf.predict(test_X)\n",
    "    y_proba = clf.predict_proba(test_X)\n",
    "\n",
    "    rf_model_rps = (sum([rps(y_pro[::-1], convert_to_vector(y_t)) for y_pro, y_t in zip(y_proba, test_y)]) / len(y_pred))\n",
    "    rps_list_rf.append(rf_model_rps)\n",
    "    \n",
    "    conf = confusion_matrix(test_y, y_pred)\n",
    "    rf_acc, pr_re_table = precision_recall_table(conf)\n",
    "    \n",
    "    pr_re_table_sum = np.add(pr_re_table_sum, pr_re_table)\n",
    "    acc_list_rf.append(rf_acc)\n",
    "    \n",
    "rps_avg_rf = sum(rps_list_rf) / iterations\n",
    "acc_avg_rf = sum(acc_list_rf) / iterations\n",
    "pr_re_table_avg = np.true_divide(pr_re_table_sum, iterations)\n",
    "\n",
    "print(rps_avg_rf)\n",
    "print(acc_avg_rf)\n",
    "print(pr_re_table_avg)"
   ]
  },
  {
   "cell_type": "markdown",
   "metadata": {},
   "source": [
    "### Gradient Boosting"
   ]
  },
  {
   "cell_type": "code",
   "execution_count": 133,
   "metadata": {},
   "outputs": [
    {
     "name": "stdout",
     "output_type": "stream",
     "text": [
      "0.19183431355161093\n",
      "0.5984674329501913\n",
      "[[0.62147321 0.83521368 0.71265962]\n",
      " [0.42311688 0.15       0.22146341]\n",
      " [0.59988833 0.58904762 0.5944131 ]]\n"
     ]
    }
   ],
   "source": [
    "iterations = 50\n",
    "acc_list_gb = []\n",
    "rps_list_gb = []\n",
    "pr_re_table_sum = np.zeros((3, 3))\n",
    "for i in range(iterations):\n",
    "    clf = GradientBoostingClassifier()\n",
    "    learning_set = df.loc[df[\"Season\"] != season]\n",
    "    testing_set = df.loc[df[\"Season\"] == season]\n",
    "\n",
    "    train_X, train_y = learning_set.drop([\"Season\", \"Result\", \"Round\", \"Home\", \"Away\"], axis = 1), learning_set[\"Result\"]\n",
    "    test_X, test_y = testing_set.drop([\"Season\", \"Result\", \"Round\", \"Home\", \"Away\"], axis = 1), testing_set[\"Result\"]\n",
    "\n",
    "    clf.fit(train_X, train_y)\n",
    "    y_pred = clf.predict(test_X)\n",
    "    y_proba = clf.predict_proba(test_X)\n",
    "\n",
    "    gb_model_rps = (sum([rps(y_pro[::-1], convert_to_vector(y_t)) for y_pro, y_t in zip(y_proba, test_y)]) / len(y_pred))\n",
    "    rps_list_gb.append(gb_model_rps)\n",
    "    \n",
    "    conf = confusion_matrix(test_y, y_pred)\n",
    "    gb_acc, pr_re_table = precision_recall_table(conf)\n",
    "    \n",
    "    pr_re_table_sum = np.add(pr_re_table_sum, pr_re_table)\n",
    "    acc_list_gb.append(gb_acc)\n",
    "    \n",
    "rps_avg_gb = sum(rps_list_gb) / iterations\n",
    "acc_avg_gb = sum(acc_list_gb) / iterations\n",
    "pr_re_table_avg = np.true_divide(pr_re_table_sum, iterations)\n",
    "\n",
    "print(rps_avg_gb)\n",
    "print(acc_avg_gb)\n",
    "print(pr_re_table_avg)"
   ]
  },
  {
   "cell_type": "markdown",
   "metadata": {},
   "source": [
    "### Neural network"
   ]
  },
  {
   "cell_type": "code",
   "execution_count": 174,
   "metadata": {},
   "outputs": [
    {
     "name": "stdout",
     "output_type": "stream",
     "text": [
      "0.18999387857283231\n",
      "0.5762452107279694\n",
      "[[0.56699218 0.84923077 0.67987505]\n",
      " [0.90666667 0.03133333 0.06042188]\n",
      " [0.58902591 0.5852381  0.58665038]]\n"
     ]
    }
   ],
   "source": [
    "iterations = 50\n",
    "acc_list_nn = []\n",
    "rps_list_nn = []\n",
    "pr_re_table_sum = np.zeros((3, 3))\n",
    "for i in range(iterations):\n",
    "    clf = MLPClassifier(alpha=3, max_iter=2000, hidden_layer_sizes=300)\n",
    "    learning_set = scaled_df.loc[scaled_df[\"Season\"] != season]\n",
    "    testing_set = scaled_df.loc[scaled_df[\"Season\"] == season]\n",
    "\n",
    "    train_X, train_y = learning_set.drop([\"Season\", \"Result\", \"Round\", \"Home\", \"Away\"], axis = 1), learning_set[\"Result\"]\n",
    "    test_X, test_y = testing_set.drop([\"Season\", \"Result\", \"Round\", \"Home\", \"Away\"], axis = 1), testing_set[\"Result\"]\n",
    "\n",
    "    clf.fit(train_X, train_y)\n",
    "    y_pred = clf.predict(test_X)\n",
    "    y_proba = clf.predict_proba(test_X)\n",
    "\n",
    "    nn_model_rps = (sum([rps(y_pro[::-1], convert_to_vector(y_t)) for y_pro, y_t in zip(y_proba, test_y)]) / len(y_pred))\n",
    "    rps_list_nn.append(nn_model_rps)\n",
    "    \n",
    "    conf = confusion_matrix(test_y, y_pred)\n",
    "    nn_acc, pr_re_table = precision_recall_table(conf)\n",
    "    \n",
    "    pr_re_table_sum = np.add(pr_re_table_sum, pr_re_table)\n",
    "    acc_list_nn.append(nn_acc)\n",
    "    \n",
    "rps_avg_nn = sum(rps_list_nn) / iterations\n",
    "acc_avg_nn = sum(acc_list_nn) / iterations\n",
    "pr_re_table_avg = np.true_divide(pr_re_table_sum, iterations)\n",
    "\n",
    "print(rps_avg_nn)\n",
    "print(acc_avg_nn)\n",
    "print(pr_re_table_avg)"
   ]
  },
  {
   "cell_type": "code",
   "execution_count": 216,
   "metadata": {},
   "outputs": [
    {
     "data": {
      "image/png": "[encoded data removed]",
      "text/plain": [
       "<Figure size 432x1080 with 3 Axes>"
      ]
     },
     "metadata": {
      "needs_background": "light"
     },
     "output_type": "display_data"
    }
   ],
   "source": [
    "fig, axs = plt.subplots(3, 1, sharex=True, figsize=(6, 15))\n",
    "\n",
    "axs[0].hist(rps_list_rf, bins=10, color=\"orange\", edgecolor='black', linewidth=1.2)\n",
    "axs[0].set_title('Random forest')\n",
    "\n",
    "axs[1].hist(rps_list_gb, bins=7, color=\"red\", edgecolor='black', linewidth=1.2)\n",
    "axs[1].set_title('Gradient boosting')\n",
    "\n",
    "axs[2].hist(rps_list_nn, bins=10, edgecolor='black', linewidth=1.2)\n",
    "axs[2].set_title('MLP Classifier')\n",
    "\n",
    "plt.savefig(\"rps_dist.png\")\n",
    "plt.show()"
   ]
  },
  {
   "cell_type": "markdown",
   "metadata": {},
   "source": [
    "## Getting RPS from Betting site\n",
    "\n",
    "We want to obtain the RPS for Bundesliga in 2018/2019 with betting from betting site www.betexplorer.com"
   ]
  },
  {
   "cell_type": "code",
   "execution_count": 188,
   "metadata": {},
   "outputs": [],
   "source": [
    "s = requests.session()\n",
    "req = s.get(\"https://www.betexplorer.com/soccer/germany/bundesliga-2018-2019/results/\")\n",
    "soup = bs(req.text, 'html.parser')"
   ]
  },
  {
   "cell_type": "code",
   "execution_count": 189,
   "metadata": {},
   "outputs": [],
   "source": [
    "def get_pred_vector_norm(odds_home, odds_draw, odds_away):\n",
    "    prob_home = 1 / float(odds_home)\n",
    "    prob_draw = 1 / float(odds_draw)\n",
    "    prob_away = 1 / float(odds_away)\n",
    "\n",
    "    sum_of_probs = prob_home + prob_draw + prob_away\n",
    "\n",
    "    pred_vector = [prob_home, prob_draw, prob_away]\n",
    "\n",
    "    pred_vector_norm = [prob_home / sum_of_probs, prob_draw / sum_of_probs, prob_away / sum_of_probs]\n",
    "    return pred_vector_norm"
   ]
  },
  {
   "cell_type": "code",
   "execution_count": 190,
   "metadata": {},
   "outputs": [],
   "source": [
    "def get_res_vector(result):\n",
    "    home, away = result.split(\":\")\n",
    "    home, away = int(home), int(away)\n",
    "\n",
    "    res_vector = [1, 0, 0]\n",
    "    if home == away:\n",
    "        res_vector = [0, 1, 0]\n",
    "    elif away > home:\n",
    "        res_vector = [0, 0, 1]\n",
    "    \n",
    "    return res_vector"
   ]
  },
  {
   "cell_type": "code",
   "execution_count": 191,
   "metadata": {},
   "outputs": [
    {
     "data": {
      "text/plain": [
       "0.1931014646349363"
      ]
     },
     "execution_count": 191,
     "metadata": {},
     "output_type": "execute_result"
    }
   ],
   "source": [
    "rps_list = []\n",
    "rnd = 0\n",
    "rows = soup.find(\"table\", {\"class\": \"table-main h-mb15 js-tablebanner-t js-tablebanner-ntb\"}).find_all(\"tr\")\n",
    "for row in rows:\n",
    "    ths = row.find_all(\"th\")\n",
    "    if len(ths) > 0:\n",
    "        rnd = int(ths[0].text.split(\".\")[0])\n",
    "    elif rnd > 5:\n",
    "        \n",
    "        home, away = row.find(\"td\", {\"class\": \"h-text-left\"}).text.split(\" - \")\n",
    "        \n",
    "        result = row.find(\"td\", {\"class\": \"h-text-center\"}).text\n",
    "        res_vector = get_res_vector(result)\n",
    "        \n",
    "        probs = row.find_all(\"td\", {\"class\": \"table-main__odds\"})\n",
    "        odds_home = probs[0].get(\"data-odd\")\n",
    "        if not odds_home:\n",
    "            odds_home = probs[0].find(\"span\").find(\"span\").find(\"span\").get(\"data-odd\")\n",
    "            \n",
    "        odds_draw = probs[1].get(\"data-odd\")\n",
    "        if not odds_draw:\n",
    "            odds_draw = probs[1].find(\"span\").find(\"span\").find(\"span\").get(\"data-odd\")\n",
    "            \n",
    "        odds_away = probs[2].get(\"data-odd\")\n",
    "        if not odds_away:\n",
    "            odds_away = probs[2].find(\"span\").find(\"span\").find(\"span\").get(\"data-odd\")\n",
    "        \n",
    "        pred_vector = get_pred_vector_norm(odds_home, odds_draw, odds_away)\n",
    "        match_rps = rps(pred_vector, res_vector)\n",
    "        rps_list.append([match_rps, rnd])\n",
    "\n",
    "rps_df = pd.DataFrame(rps_list[::-1], columns=[\"RPS\", \"Round\"])\n",
    "rps_avgs = []\n",
    "rnds = list(range(6, 35))\n",
    "for rnd in rnds:\n",
    "    rps_values = list(rps_df.loc[rps_df[\"Round\"] == rnd, \"RPS\"].values)\n",
    "    avg = sum(rps_values) / len(rps_values)\n",
    "    rps_avgs.append(avg)\n",
    "betexplorer_rps = sum(rps_avgs) / len(rps_avgs)\n",
    "betexplorer_rps"
   ]
  },
  {
   "cell_type": "code",
   "execution_count": 203,
   "metadata": {},
   "outputs": [
    {
     "data": {
      "image/png": "[encoded data removed]",
      "text/plain": [
       "<Figure size 576x360 with 1 Axes>"
      ]
     },
     "metadata": {
      "needs_background": "light"
     },
     "output_type": "display_data"
    }
   ],
   "source": [
    "plt.figure(figsize=(8,5))\n",
    "plt.plot(rnds, rps_avgs, color=\"red\", label=\"Betexplorer\")\n",
    "plt.plot(rnds, rps_avgs_lr, color=\"blue\", label=\"Log. regression\")\n",
    "plt.legend()\n",
    "\n",
    "plt.ylabel('RPS value')\n",
    "plt.xlabel('Round')\n",
    "plt.savefig(\"bet_lr.png\")\n",
    "plt.show()"
   ]
  }
 ],
 "metadata": {
  "kernelspec": {
   "display_name": "Python [conda env:ml-bundesliga] *",
   "language": "python",
   "name": "conda-env-ml-bundesliga-py"
  },
  "language_info": {
   "codemirror_mode": {
    "name": "ipython",
    "version": 3
   },
   "file_extension": ".py",
   "mimetype": "text/x-python",
   "name": "python",
   "nbconvert_exporter": "python",
   "pygments_lexer": "ipython3",
   "version": "3.7.9"
  }
 },
 "nbformat": 4,
 "nbformat_minor": 4
}
